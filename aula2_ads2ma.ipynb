{
  "nbformat": 4,
  "nbformat_minor": 0,
  "metadata": {
    "colab": {
      "provenance": [],
      "authorship_tag": "ABX9TyPyiXbIUx8VdQ9dpTz6XUKh",
      "include_colab_link": true
    },
    "kernelspec": {
      "name": "python3",
      "display_name": "Python 3"
    },
    "language_info": {
      "name": "python"
    }
  },
  "cells": [
    {
      "cell_type": "markdown",
      "metadata": {
        "id": "view-in-github",
        "colab_type": "text"
      },
      "source": [
        "<a href=\"https://colab.research.google.com/github/AndreAllyson/learning-python/blob/main/aula2_ads2ma.ipynb\" target=\"_parent\"><img src=\"https://colab.research.google.com/assets/colab-badge.svg\" alt=\"Open In Colab\"/></a>"
      ]
    },
    {
      "cell_type": "code",
      "execution_count": 17,
      "metadata": {
        "colab": {
          "base_uri": "https://localhost:8080/"
        },
        "id": "uXAabp4Ic9Q1",
        "outputId": "74ee3cbc-2d42-4401-b7e6-8bc2dc194350"
      },
      "outputs": [
        {
          "output_type": "stream",
          "name": "stdout",
          "text": [
            "Olá Mundo\n",
            "<class 'str'>\n",
            "Dado\n"
          ]
        }
      ],
      "source": [
        "# UNINASSAU FIRST CLASS OF PYTHON\n",
        "# DOCENTE: CLOVES ROCHA\n",
        "# ESTUDANTE: ANDRÉ ALLYSON RODRIUGES DE ALBUQUERQUE\n",
        "# TIPOS PRIMITIVOS DE DADOS\n",
        "\n",
        "print ('Olá Mundo')\n",
        "d  = 'Dado'\n",
        "\n",
        "print(type(d))\n",
        "print(d)"
      ]
    }
  ]
}