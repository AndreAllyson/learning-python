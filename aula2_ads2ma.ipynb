{
  "nbformat": 4,
  "nbformat_minor": 0,
  "metadata": {
    "colab": {
      "provenance": []
    },
    "kernelspec": {
      "name": "python3",
      "display_name": "Python 3"
    },
    "language_info": {
      "name": "python"
    }
  },
  "cells": [
    {
      "cell_type": "code",
      "execution_count": 15,
      "metadata": {
        "colab": {
          "base_uri": "https://localhost:8080/"
        },
        "id": "uXAabp4Ic9Q1",
        "outputId": "c61a560a-484f-4402-d75a-40fcdab9a4c5"
      },
      "outputs": [
        {
          "output_type": "stream",
          "name": "stdout",
          "text": [
            "Olá Mundo\n",
            "<class 'str'>\n"
          ]
        }
      ],
      "source": [
        "# UNINASSAU FIRST CLASS OF PYTHON\n",
        "# DOCENTE: CLOVES ROCHA\n",
        "# ESTUDANTE: ANDRÉ ALLYSON RODRIUGES DE ALBUQUERQUE\n",
        "# TIPOS PRIMITIVOS DE DADOS\n",
        "\n",
        "print ('Olá Mundo')\n",
        "c  = 'Allyson'\n",
        "\n",
        "print(type(c))"
      ]
    }
  ]
}